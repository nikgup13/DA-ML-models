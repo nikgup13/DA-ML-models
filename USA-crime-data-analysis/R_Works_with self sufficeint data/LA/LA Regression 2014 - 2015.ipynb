{
 "cells": [
  {
   "cell_type": "markdown",
   "metadata": {},
   "source": [
    "## LA - Regression 2014 - 2015\n",
    "\n",
    "> We read the csv files for LA and separately for 2014 and 2015.\n",
    "\n",
    "> Then the data is converted to data-frame.\n",
    "\n",
    "> Generalized logistic regression is done because we have some non-numeric values.\n",
    "\n",
    "* Crime.Code.Descent is the dependent variable and Victim sex, victim age, victim descent, time occurred, Latitude and longitude are the independent variables.\n",
    "\n",
    "* We observed that p value for Victim’s age is very low which shows that it is a major contributor in glm\n",
    "\n",
    "> We found coefficients for the glm fit. It is done to see the effect of negative and positive parameters. Positive parameters are directly proportional to dependent variables while negative is inversely proportional.\n",
    "\n",
    "> Then we calculated probabilities that a particular crime will happen for given values of independent variables.\n",
    "\n",
    "> The same is done for the data of LA for 2015"
   ]
  },
  {
   "cell_type": "code",
   "execution_count": null,
   "metadata": {
    "collapsed": true
   },
   "outputs": [],
   "source": [
    "#reading csv file for LA2014 data separated from main file\n",
    "\n",
    "data = read.csv('LA2014regression.csv')\n",
    "data\n",
    "\n"
   ]
  },
  {
   "cell_type": "code",
   "execution_count": null,
   "metadata": {
    "collapsed": true
   },
   "outputs": [],
   "source": [
    "#GLM is done because of presence of non-numeric values in data\n",
    "\n",
    "glm.fit=glm(Crime.Code.Desc~ Victim.Age + Victim.Sex + Victim.Descent + Time.Occurred + Lat + Lon ,data=data ,family = binomial)\n",
    "summary(glm.fit)\n",
    "\n",
    "#calculating coefficients so that positive and negative parameters can be noticed and analysis can be done\n",
    "\n",
    "coef(glm.fit)\n",
    "summary(glm.fit)$coef\n",
    "\n",
    "#probabilities are calculated for all the independent variables \n",
    "\n",
    "glm.probs = predict(glm.fit,type = \"response\")\n",
    "glm.probs\n",
    "attach(data)\n",
    "contrasts(Crime.Code.Desc)\n",
    "\n"
   ]
  },
  {
   "cell_type": "code",
   "execution_count": null,
   "metadata": {
    "collapsed": true
   },
   "outputs": [],
   "source": [
    "#2015(same is done for 2015 LA data extracted from main dataset)\n",
    "\n",
    "data1 = read.csv('LA2015regression.csv')\n",
    "data1\n"
   ]
  },
  {
   "cell_type": "code",
   "execution_count": null,
   "metadata": {
    "collapsed": true
   },
   "outputs": [],
   "source": [
    "library(MASS)\n",
    "names(data)\n",
    "glm.fit = glm(Crime.Code.Desc~ Victim.Age + Victim.Sex + Victim.Descent + Time.Occurred + Lat + Lon ,data=data ,family = binomial)\n",
    "summary(glm.fit)\n",
    "coef(glm.fit)\n",
    "summary(glm.fit)$coef\n",
    "glm.probs = predict(glm.fit,type = \"response\")\n",
    "glm.probs\n",
    "attach(data1)\n",
    "contrasts(Crime.Code.Desc)"
   ]
  },
  {
   "cell_type": "code",
   "execution_count": null,
   "metadata": {
    "collapsed": true
   },
   "outputs": [],
   "source": []
  }
 ],
 "metadata": {
  "kernelspec": {
   "display_name": "R 3.3",
   "language": "R",
   "name": "ir33"
  },
  "language_info": {
   "codemirror_mode": "r",
   "file_extension": ".r",
   "mimetype": "text/x-r-source",
   "name": "R",
   "pygments_lexer": "r",
   "version": "3.3.2"
  }
 },
 "nbformat": 4,
 "nbformat_minor": 2
}
